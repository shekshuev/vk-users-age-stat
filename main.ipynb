{
  "cells": [
    {
      "cell_type": "code",
      "execution_count": 4,
      "metadata": {
        "id": "hZcpTcaNtkzL"
      },
      "outputs": [],
      "source": [
        "import vk_api\n",
        "import re\n",
        "from datetime import date\n",
        "import pandas as pd\n",
        "import matplotlib.pyplot as plt\n",
        "import seaborn as sns\n",
        "import cv2\n",
        "import urllib.request\n",
        "import numpy as np\n",
        "from matplotlib import pyplot as plt\n",
        "from dotenv import load_dotenv\n",
        "import os\n",
        "%matplotlib inline"
      ]
    },
    {
      "cell_type": "code",
      "execution_count": 23,
      "metadata": {
        "colab": {
          "base_uri": "https://localhost:8080/"
        },
        "id": "mlRHOhUZtuhM",
        "outputId": "3e6ff2a2-6e97-4a2b-a0f7-d954a7cc3bdf"
      },
      "outputs": [],
      "source": [
        "load_dotenv()\n",
        "vk_session = vk_api.VkApi(token=os.environ.get('VK_ACCESS_TOKEN'), api_version=\"5.131\")\n",
        "vk = vk_session.get_api()"
      ]
    },
    {
      "cell_type": "code",
      "execution_count": null,
      "metadata": {
        "id": "WP4TfcAK1_aV"
      },
      "outputs": [],
      "source": [
        "communities = [\n",
        "    {\n",
        "        \"name\": \"Город Орел! Орловчане ВКонтакте\",\n",
        "        \"domain\": \"vk_orel\"\n",
        "    },\n",
        "    {\n",
        "        \"name\": \"«АВТОСТИКЕР» - Наклейки на авто | Аксессуары\",\n",
        "        \"domain\": \"autosticker57\"\n",
        "    },\n",
        "    {\n",
        "        \"name\": \"ИНЦИДЕНТ | ОРЁЛ\",\n",
        "        \"domain\": \"orel_onlain\"\n",
        "    },\n",
        "    {\n",
        "        \"name\": \"Найди меня - Орёл\",\n",
        "        \"domain\": \"naidi_orel\"\n",
        "    },\n",
        "    {\n",
        "        \"name\": \"Интересный город Орел | Орловчане!\",\n",
        "        \"domain\": \"interesting_orel\"\n",
        "    }\n",
        "]\n",
        "\n",
        "def download_vk_data(communities):\n",
        "    rows = []\n",
        "    for c in communities:\n",
        "        offset = 0\n",
        "        finish = False\n",
        "        while not finish:\n",
        "            members = vk.groups.get_members(group_id=c['domain'], offset=offset, fields=\"id,bdate,photo_200\", count=1000)\n",
        "            print(c['domain'], offset)\n",
        "            if len(members['items']) <= 0:\n",
        "                finish = True\n",
        "            else:\n",
        "                for member in members[\"items\"]:\n",
        "                    row = {\n",
        "                        \"id\": member[\"id\"],\n",
        "                        \"group_id\": c[\"domain\"],\n",
        "                        \"bdate\": member[\"bdate\"] if \"bdate\" in member else None,\n",
        "                        \"photo_200\": member[\"photo_200\"] if \"photo_200\" in member else None\n",
        "\n",
        "                    }\n",
        "                    rows.append(row)\n",
        "            offset += 1000\n",
        "    return pd.DataFrame(columns=[\n",
        "        'id',\n",
        "        'group_id',\n",
        "        'bdate',\n",
        "        'photo_200'\n",
        "        ], data=rows)\n",
        "\n",
        "df = download_vk_data(communities)\n",
        "df.to_csv(\"data.csv\", index=False)"
      ]
    },
    {
      "cell_type": "code",
      "execution_count": 2,
      "metadata": {
        "id": "5gUzvNFY-ulC"
      },
      "outputs": [],
      "source": [
        "def try_parse_date(date_str):\n",
        "    if date_str and re.match(r\"^(\\d){1,2}[.]{1}(\\d){1,2}[.]{1}(\\d){4}$\", date_str):\n",
        "        [day, month, year] = date_str.split(\".\")\n",
        "        return date(int(year), int(month), int(day))\n",
        "    else:\n",
        "        return None\n",
        "    \n",
        "def make_haar_cascade_clf():\n",
        "    try:\n",
        "        xml_path = \"haarcascade_frontalface_default.xml\"\n",
        "        return cv2.CascadeClassifier(xml_path)\n",
        "    except:\n",
        "        return None\n",
        "\n",
        "def has_faces(url, clf):\n",
        "    if not clf:\n",
        "        return False\n",
        "    try:\n",
        "        req = urllib.request.urlopen(url)\n",
        "        arr = np.asarray(bytearray(req.read()), dtype=np.uint8)\n",
        "        img = cv2.imdecode(arr, -1)\n",
        "        grayImg = cv2.cvtColor(img, cv2.COLOR_BGR2GRAY)\n",
        "        faces = clf.detectMultiScale(grayImg, 1.3, 4)\n",
        "        return len(list(faces)) > 0\n",
        "    except:\n",
        "        return False\n",
        "\n",
        "clf = make_haar_cascade_clf()\n",
        "\n",
        "df = pd.read_csv(\"data.csv\", delimiter=\",\")\n",
        "df['bdate'] = df['bdate'].apply(lambda elem: try_parse_date(str(elem)))\n",
        "df['has_face'] = df['photo_200'].apply(lambda elem: has_faces(str(elem), clf))\n",
        "df.to_csv(\"data_processed.csv\", index=False)"
      ]
    },
    {
      "cell_type": "code",
      "execution_count": null,
      "metadata": {
        "id": "pIu-aiIhX5oR"
      },
      "outputs": [],
      "source": [
        "df = pd.read_csv(\"data_processed.csv\", delimiter=\",\")\n",
        "groups = df.groupby(\"group_id\")\n",
        "\n",
        "names = [\n",
        "    \"Город Орел!\\nОрловчане\\nВКонтакте\\n(vk.com/vk_orel)\",\n",
        "    \"«АВТОСТИКЕР»\\nНаклейки на авто\\n| Аксессуары\\n(vk.com/autosticker57)\",\n",
        "    \"ИНЦИДЕНТ\\n| ОРЁЛ\\n\\n(vk.com/orel_onlain)\",\n",
        "    \"Найди меня -\\nОрёл\\n\\n(vk.com/naidi_orel)\",\n",
        "    \"Интересный город\\nОрел | Орловчане!\\n\\n(vk.com/interesting_orel)\"]\n",
        "domains = [\"vk_orel\", \"autosticker57\", \"orel_onlain\", \"naidi_orel\", \"interesting_orel\"]\n",
        "\n",
        "counts = []\n",
        "has_bdates = []\n",
        "has_faces = []\n",
        "\n",
        "for domain in domains:\n",
        "    group = groups.get_group(domain)\n",
        "    has_bdates.append(len(group['bdate']) - group['bdate'].count())\n",
        "    has_faces.append(len(group['has_face']) - group[group['has_face'] == False]['has_face'].count())\n",
        "    counts.append(len(group['bdate']))\n",
        "cdf = pd.DataFrame({\n",
        "    \"title\": names,\n",
        "    \"Всего\": counts,\n",
        "    \"Возраст указан\": has_bdates,\n",
        "    \"Есть лицо на фото\": has_faces\n",
        "})\n",
        "cdf = cdf.melt(id_vars = \"title\", var_name='Количество пользователей', value_name='value')\n",
        "fig, ax = plt.subplots(figsize=(14,8))\n",
        "fig.set(facecolor = 'white')\n",
        "sns.barplot(data=cdf, x=\"title\", y=\"value\", hue=\"Количество пользователей\", ax=ax)\n",
        "ax.set_xlabel(\"\\nСообщество VK\", fontname=\"serif\", fontsize=12)\n",
        "ax.set_ylabel(\"Количество пользователей\", fontname=\"serif\", fontsize=12)\n",
        "ax.yaxis.grid(True)\n",
        "ax.xaxis.grid(True)\n",
        "for tick in ax.get_xticklabels():\n",
        "    tick.set_fontname(\"serif\")\n",
        "    tick.set_fontsize(12)\n",
        "for tick in ax.get_yticklabels():\n",
        "    tick.set_fontname(\"serif\")\n",
        "    tick.set_fontsize(12)"
      ]
    }
  ],
  "metadata": {
    "colab": {
      "provenance": []
    },
    "kernelspec": {
      "display_name": "Python 3",
      "name": "python3"
    },
    "language_info": {
      "codemirror_mode": {
        "name": "ipython",
        "version": 3
      },
      "file_extension": ".py",
      "mimetype": "text/x-python",
      "name": "python",
      "nbconvert_exporter": "python",
      "pygments_lexer": "ipython3",
      "version": "3.9.16"
    }
  },
  "nbformat": 4,
  "nbformat_minor": 0
}
